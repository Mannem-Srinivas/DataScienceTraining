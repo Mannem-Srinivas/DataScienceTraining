{
 "cells": [
  {
   "cell_type": "code",
   "execution_count": 1,
   "id": "c09c3930",
   "metadata": {},
   "outputs": [
    {
     "name": "stdout",
     "output_type": "stream",
     "text": [
      "Data loaded and scaled successfully.\n"
     ]
    }
   ],
   "source": [
    "import pandas as pd\n",
    "from sklearn.datasets import fetch_california_housing\n",
    "from sklearn.model_selection import train_test_split\n",
    "from sklearn.preprocessing import StandardScaler\n",
    "\n",
    "# Load the dataset\n",
    "housing = fetch_california_housing(as_frame=True)\n",
    "df = housing.frame\n",
    "X = df.drop('MedHouseVal', axis=1)\n",
    "y = df['MedHouseVal']\n",
    "\n",
    "# Split the data\n",
    "X_train, X_test, y_train, y_test = train_test_split(X, y, test_size=0.2, random_state=42)\n",
    "\n",
    "# Scale the features\n",
    "scaler = StandardScaler()\n",
    "X_train_scaled = scaler.fit_transform(X_train)\n",
    "X_test_scaled = scaler.transform(X_test)\n",
    "\n",
    "print(\"Data loaded and scaled successfully.\")\n"
   ]
  },
  {
   "cell_type": "code",
   "execution_count": 2,
   "id": "6501d798",
   "metadata": {},
   "outputs": [
    {
     "name": "stdout",
     "output_type": "stream",
     "text": [
      "   MedInc  HouseAge  AveRooms  AveBedrms  Population  AveOccup  Latitude  \\\n",
      "0  8.3252      41.0  6.984127   1.023810       322.0  2.555556     37.88   \n",
      "1  8.3014      21.0  6.238137   0.971880      2401.0  2.109842     37.86   \n",
      "2  7.2574      52.0  8.288136   1.073446       496.0  2.802260     37.85   \n",
      "3  5.6431      52.0  5.817352   1.073059       558.0  2.547945     37.85   \n",
      "4  3.8462      52.0  6.281853   1.081081       565.0  2.181467     37.85   \n",
      "\n",
      "   Longitude  MedHouseVal  \n",
      "0    -122.23        4.526  \n",
      "1    -122.22        3.585  \n",
      "2    -122.24        3.521  \n",
      "3    -122.25        3.413  \n",
      "4    -122.25        3.422  \n"
     ]
    }
   ],
   "source": [
    "print(df.head())"
   ]
  },
  {
   "cell_type": "markdown",
   "id": "7f7341f9",
   "metadata": {},
   "source": [
    "1. Linear Regression"
   ]
  },
  {
   "cell_type": "code",
   "execution_count": 3,
   "id": "b47bc2c2",
   "metadata": {},
   "outputs": [
    {
     "name": "stdout",
     "output_type": "stream",
     "text": [
      "--- Linear Regression ---\n",
      "Mean Squared Error (MSE): 0.5559\n",
      "R-squared (R2): 0.5758\n"
     ]
    }
   ],
   "source": [
    "from sklearn.linear_model import LinearRegression\n",
    "from sklearn.metrics import mean_squared_error, r2_score\n",
    "\n",
    "# Initialize the model\n",
    "linear_reg = LinearRegression()\n",
    "\n",
    "# Train the model\n",
    "linear_reg.fit(X_train_scaled, y_train)\n",
    "\n",
    "# Make predictions\n",
    "y_pred_linear = linear_reg.predict(X_test_scaled)\n",
    "\n",
    "# Evaluate the model\n",
    "mse_linear = mean_squared_error(y_test, y_pred_linear)\n",
    "r2_linear = r2_score(y_test, y_pred_linear)\n",
    "\n",
    "print(\"--- Linear Regression ---\")\n",
    "print(f\"Mean Squared Error (MSE): {mse_linear:.4f}\")\n",
    "print(f\"R-squared (R2): {r2_linear:.4f}\")\n"
   ]
  },
  {
   "cell_type": "markdown",
   "id": "691b9e81",
   "metadata": {},
   "source": [
    "2. Polynomial Regression"
   ]
  },
  {
   "cell_type": "code",
   "execution_count": 4,
   "id": "31bf73c7",
   "metadata": {},
   "outputs": [
    {
     "name": "stdout",
     "output_type": "stream",
     "text": [
      "\n",
      "--- Polynomial Regression (Degree 2) ---\n",
      "Mean Squared Error (MSE): 0.4643\n",
      "R-squared (R2): 0.6457\n"
     ]
    }
   ],
   "source": [
    "from sklearn.preprocessing import PolynomialFeatures\n",
    "\n",
    "# Create polynomial features (e.g., degree=2 for quadratic terms)\n",
    "poly_features = PolynomialFeatures(degree=2, include_bias=False)\n",
    "X_train_poly = poly_features.fit_transform(X_train_scaled)\n",
    "X_test_poly = poly_features.transform(X_test_scaled)\n",
    "\n",
    "# Initialize and train a linear model on the new features\n",
    "polynomial_reg = LinearRegression()\n",
    "polynomial_reg.fit(X_train_poly, y_train)\n",
    "\n",
    "# Make predictions\n",
    "y_pred_poly = polynomial_reg.predict(X_test_poly)\n",
    "\n",
    "# Evaluate the model\n",
    "mse_poly = mean_squared_error(y_test, y_pred_poly)\n",
    "r2_poly = r2_score(y_test, y_pred_poly)\n",
    "\n",
    "print(\"\\n--- Polynomial Regression (Degree 2) ---\")\n",
    "print(f\"Mean Squared Error (MSE): {mse_poly:.4f}\")\n",
    "print(f\"R-squared (R2): {r2_poly:.4f}\")\n"
   ]
  },
  {
   "cell_type": "markdown",
   "id": "9243941c",
   "metadata": {},
   "source": [
    "3. Ridge Regression"
   ]
  },
  {
   "cell_type": "code",
   "execution_count": 5,
   "id": "23ce5d35",
   "metadata": {},
   "outputs": [
    {
     "name": "stdout",
     "output_type": "stream",
     "text": [
      "\n",
      "--- Ridge Regression ---\n",
      "Mean Squared Error (MSE): 0.5559\n",
      "R-squared (R2): 0.5758\n"
     ]
    }
   ],
   "source": [
    "from sklearn.linear_model import Ridge\n",
    "\n",
    "# Initialize the Ridge model with a regularization strength (alpha)\n",
    "ridge_reg = Ridge(alpha=1.0)\n",
    "\n",
    "# Train the model\n",
    "ridge_reg.fit(X_train_scaled, y_train)\n",
    "\n",
    "# Make predictions\n",
    "y_pred_ridge = ridge_reg.predict(X_test_scaled)\n",
    "\n",
    "# Evaluate the model\n",
    "mse_ridge = mean_squared_error(y_test, y_pred_ridge)\n",
    "r2_ridge = r2_score(y_test, y_pred_ridge)\n",
    "\n",
    "print(\"\\n--- Ridge Regression ---\")\n",
    "print(f\"Mean Squared Error (MSE): {mse_ridge:.4f}\")\n",
    "print(f\"R-squared (R2): {r2_ridge:.4f}\")\n"
   ]
  },
  {
   "cell_type": "markdown",
   "id": "fa57c9f5",
   "metadata": {},
   "source": [
    "4. Lasso Regression"
   ]
  },
  {
   "cell_type": "code",
   "execution_count": 6,
   "id": "6a0cac26",
   "metadata": {},
   "outputs": [
    {
     "name": "stdout",
     "output_type": "stream",
     "text": [
      "\n",
      "--- Lasso Regression ---\n",
      "Mean Squared Error (MSE): 0.5483\n",
      "R-squared (R2): 0.5816\n"
     ]
    }
   ],
   "source": [
    "from sklearn.linear_model import Lasso\n",
    "\n",
    "# Initialize the Lasso model\n",
    "lasso_reg = Lasso(alpha=0.01) # A small alpha value is often better for this dataset\n",
    "\n",
    "# Train the model\n",
    "lasso_reg.fit(X_train_scaled, y_train)\n",
    "\n",
    "# Make predictions\n",
    "y_pred_lasso = lasso_reg.predict(X_test_scaled)\n",
    "\n",
    "# Evaluate the model\n",
    "mse_lasso = mean_squared_error(y_test, y_pred_lasso)\n",
    "r2_lasso = r2_score(y_test, y_pred_lasso)\n",
    "\n",
    "print(\"\\n--- Lasso Regression ---\")\n",
    "print(f\"Mean Squared Error (MSE): {mse_lasso:.4f}\")\n",
    "print(f\"R-squared (R2): {r2_lasso:.4f}\")\n"
   ]
  },
  {
   "cell_type": "markdown",
   "id": "7707e075",
   "metadata": {},
   "source": [
    "5. Elastic Net Regression"
   ]
  },
  {
   "cell_type": "code",
   "execution_count": 7,
   "id": "1ec10e96",
   "metadata": {},
   "outputs": [
    {
     "name": "stdout",
     "output_type": "stream",
     "text": [
      "\n",
      "--- Elastic Net Regression ---\n",
      "Mean Squared Error (MSE): 0.5500\n",
      "R-squared (R2): 0.5803\n"
     ]
    }
   ],
   "source": [
    "from sklearn.linear_model import ElasticNet\n",
    "\n",
    "# Initialize the Elastic Net model\n",
    "elastic_net = ElasticNet(alpha=0.01, l1_ratio=0.5)\n",
    "\n",
    "# Train the model\n",
    "elastic_net.fit(X_train_scaled, y_train)\n",
    "\n",
    "# Make predictions\n",
    "y_pred_elastic = elastic_net.predict(X_test_scaled)\n",
    "\n",
    "# Evaluate the model\n",
    "mse_elastic = mean_squared_error(y_test, y_pred_elastic)\n",
    "r2_elastic = r2_score(y_test, y_pred_elastic)\n",
    "\n",
    "print(\"\\n--- Elastic Net Regression ---\")\n",
    "print(f\"Mean Squared Error (MSE): {mse_elastic:.4f}\")\n",
    "print(f\"R-squared (R2): {r2_elastic:.4f}\")\n"
   ]
  },
  {
   "cell_type": "markdown",
   "id": "2c295685",
   "metadata": {},
   "source": [
    "6. Feature Engineering\n",
    "This example shows how to create a simple new feature (rooms_per_household) before training a model. You would typically perform this step before splitting and scaling the data. "
   ]
  },
  {
   "cell_type": "code",
   "execution_count": 8,
   "id": "454a3d38",
   "metadata": {},
   "outputs": [
    {
     "name": "stdout",
     "output_type": "stream",
     "text": [
      "\n",
      "--- Linear Regression with Feature Engineering ---\n",
      "Mean Squared Error (MSE): 0.4724\n",
      "R-squared (R2): 0.6395\n"
     ]
    }
   ],
   "source": [
    "# Reload the original data for a cleaner start\n",
    "housing_fe = fetch_california_housing(as_frame=True)\n",
    "df_fe = housing_fe.frame\n",
    "\n",
    "# Perform feature engineering\n",
    "df_fe['rooms_per_household'] = df_fe['AveRooms'] / df_fe['AveOccup']\n",
    "\n",
    "X_fe = df_fe.drop('MedHouseVal', axis=1)\n",
    "y_fe = df_fe['MedHouseVal']\n",
    "\n",
    "# Split and scale the new data\n",
    "X_train_fe, X_test_fe, y_train_fe, y_test_fe = train_test_split(X_fe, y_fe, test_size=0.2, random_state=42)\n",
    "scaler_fe = StandardScaler()\n",
    "X_train_fe_scaled = scaler_fe.fit_transform(X_train_fe)\n",
    "X_test_fe_scaled = scaler_fe.transform(X_test_fe)\n",
    "\n",
    "# Train and evaluate a linear model with the engineered features\n",
    "linear_reg_fe = LinearRegression()\n",
    "linear_reg_fe.fit(X_train_fe_scaled, y_train_fe)\n",
    "y_pred_fe = linear_reg_fe.predict(X_test_fe_scaled)\n",
    "mse_fe = mean_squared_error(y_test_fe, y_pred_fe)\n",
    "r2_fe = r2_score(y_test_fe, y_pred_fe)\n",
    "\n",
    "print(\"\\n--- Linear Regression with Feature Engineering ---\")\n",
    "print(f\"Mean Squared Error (MSE): {mse_fe:.4f}\")\n",
    "print(f\"R-squared (R2): {r2_fe:.4f}\")\n"
   ]
  },
  {
   "cell_type": "markdown",
   "id": "51647e64",
   "metadata": {},
   "source": [
    "7. Model Evaluation"
   ]
  },
  {
   "cell_type": "code",
   "execution_count": 9,
   "id": "54db90b0",
   "metadata": {},
   "outputs": [
    {
     "name": "stdout",
     "output_type": "stream",
     "text": [
      "\n",
      "--- Evaluating Ridge Model on Test Set ---\n",
      "Mean Squared Error (MSE): 0.5559\n",
      "Root Mean Squared Error (RMSE): 0.7456\n",
      "R-squared (R2): 0.5758\n"
     ]
    }
   ],
   "source": [
    "from sklearn.metrics import mean_squared_error, r2_score\n",
    "import numpy as np\n",
    "\n",
    "def evaluate_model(model, X_test_data, y_test_true):\n",
    "    \"\"\"Prints evaluation metrics for a trained model.\"\"\"\n",
    "    y_pred = model.predict(X_test_data)\n",
    "    mse = mean_squared_error(y_test_true, y_pred)\n",
    "    rmse = np.sqrt(mse)\n",
    "    r2 = r2_score(y_test_true, y_pred)\n",
    "\n",
    "    print(f\"Mean Squared Error (MSE): {mse:.4f}\")\n",
    "    print(f\"Root Mean Squared Error (RMSE): {rmse:.4f}\")\n",
    "    print(f\"R-squared (R2): {r2:.4f}\")\n",
    "\n",
    "# Example: Evaluate the Ridge model from earlier\n",
    "print(\"\\n--- Evaluating Ridge Model on Test Set ---\")\n",
    "evaluate_model(ridge_reg, X_test_scaled, y_test)\n"
   ]
  }
 ],
 "metadata": {
  "kernelspec": {
   "display_name": "Python 3",
   "language": "python",
   "name": "python3"
  },
  "language_info": {
   "codemirror_mode": {
    "name": "ipython",
    "version": 3
   },
   "file_extension": ".py",
   "mimetype": "text/x-python",
   "name": "python",
   "nbconvert_exporter": "python",
   "pygments_lexer": "ipython3",
   "version": "3.13.7"
  }
 },
 "nbformat": 4,
 "nbformat_minor": 5
}
