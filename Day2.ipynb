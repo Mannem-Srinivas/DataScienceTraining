{
 "cells": [
  {
   "cell_type": "markdown",
   "id": "a0ad9a2a",
   "metadata": {},
   "source": [
    "\"\"\"\n",
    "📘 Hypothesis Testing & Confidence Intervals – Study Guide in Python\n",
    "This script demonstrates:\n",
    "1. Paired T-Test\n",
    "2. Two-Sample Z-Test\n",
    "3. One-Sample T-Test\n",
    "4. Chi-Square Test for Independence\n",
    "5. Confidence Intervals (T & Z)\n",
    "6. Chi-Square Distribution Visualization\n",
    "\"\"\""
   ]
  },
  {
   "cell_type": "code",
   "execution_count": 1,
   "id": "a49475fa",
   "metadata": {},
   "outputs": [],
   "source": [
    "import numpy as np\n",
    "import scipy.stats as st\n",
    "import matplotlib.pyplot as plt"
   ]
  },
  {
   "cell_type": "markdown",
   "id": "f8d0c720",
   "metadata": {},
   "source": [
    "# =========================================================\n",
    "# 1. Paired T-Test (before vs after treatment)\n",
    "# =========================================================\n",
    "\"\"\"\n",
    "👉 Use when you measure the SAME subjects twice (before & after treatment).\n",
    "   Null Hypothesis (H0): No difference between before & after.\n",
    "   Alternative Hypothesis (H1): Mean difference ≠ 0\n",
    "\"\"\""
   ]
  },
  {
   "cell_type": "code",
   "execution_count": 2,
   "id": "b7d2e1a0",
   "metadata": {},
   "outputs": [
    {
     "name": "stdout",
     "output_type": "stream",
     "text": [
      "1) Paired T-Test\n",
      "   Test statistic: -14.455, p-value: 0.000000\n",
      "   Result: Significant change detected.\n",
      "------------------------------------------------------------\n"
     ]
    }
   ],
   "source": [
    "before = np.array([112, 118, 125, 119, 121, 116, 120, 122, 117, 124])\n",
    "after  = np.array([120, 123, 130, 125, 126, 122, 124, 127, 121, 129])\n",
    "\n",
    "t_val, p_val = st.ttest_rel(before, after)\n",
    "print(\"1) Paired T-Test\")\n",
    "print(f\"   Test statistic: {t_val:.3f}, p-value: {p_val:.6f}\")\n",
    "print(\"   Result:\", \"Significant change detected.\" if p_val < 0.05 else \"No significant change.\")\n",
    "print(\"-\"*60)"
   ]
  },
  {
   "cell_type": "markdown",
   "id": "90bd58b0",
   "metadata": {},
   "source": [
    "# =========================================================\n",
    "# 2. Two-Sample Z-Test (comparing two independent groups)\n",
    "# =========================================================\n",
    "\"\"\"\n",
    "👉 Use when comparing MEANS of TWO INDEPENDENT groups with known/population variance.\n",
    "   Null Hypothesis (H0): Mean_A = Mean_B\n",
    "   Alternative Hypothesis (H1): Mean_A ≠ Mean_B\n",
    "\"\"\"\n"
   ]
  },
  {
   "cell_type": "code",
   "execution_count": 3,
   "id": "cd9e8ed6",
   "metadata": {},
   "outputs": [
    {
     "name": "stdout",
     "output_type": "stream",
     "text": [
      "2) Two-Sample Z-Test\n",
      "   Z-Score: -2.490, Critical Z: 1.960\n",
      "   Decision: Reject H0\n",
      "------------------------------------------------------------\n"
     ]
    }
   ],
   "source": [
    "mean_A, std_A, nA = 75, 10, 55\n",
    "mean_B, std_B, nB = 80, 12, 65\n",
    "\n",
    "z_stat = (mean_A - mean_B) / np.sqrt((std_A**2)/nA + (std_B**2)/nB)\n",
    "z_crit = st.norm.ppf(0.975)   # 95% confidence (two-tailed)\n",
    "\n",
    "print(\"2) Two-Sample Z-Test\")\n",
    "print(f\"   Z-Score: {z_stat:.3f}, Critical Z: {z_crit:.3f}\")\n",
    "print(\"   Decision:\", \"Reject H0\" if abs(z_stat) > z_crit else \"Fail to reject H0\")\n",
    "print(\"-\"*60)\n",
    "\n"
   ]
  },
  {
   "cell_type": "markdown",
   "id": "8e0585c5",
   "metadata": {},
   "source": [
    "# =========================================================\n",
    "# 3. One-Sample T-Test (sample mean vs population mean)\n",
    "# =========================================================\n",
    "\"\"\"\n",
    "👉 Use when comparing a SAMPLE mean to a POPULATION mean.\n",
    "   Null Hypothesis (H0): Sample mean = Population mean\n",
    "   Alternative Hypothesis (H1): Sample mean ≠ Population mean\n",
    "\"\"\""
   ]
  },
  {
   "cell_type": "code",
   "execution_count": 4,
   "id": "08b6f6f9",
   "metadata": {},
   "outputs": [
    {
     "name": "stdout",
     "output_type": "stream",
     "text": [
      "3) One-Sample T-Test\n",
      "   T-Score: -0.390, p-value: 0.706\n",
      "   Conclusion: Not significant.\n",
      "------------------------------------------------------------\n"
     ]
    }
   ],
   "source": [
    "population_mu = 85\n",
    "sample_scores = [78, 82, 88, 95, 79, 92, 85, 88, 75, 80]\n",
    "\n",
    "t_stat, p_val = st.ttest_1samp(sample_scores, population_mu)\n",
    "print(\"3) One-Sample T-Test\")\n",
    "print(f\"   T-Score: {t_stat:.3f}, p-value: {p_val:.3f}\")\n",
    "print(\"   Conclusion:\", \"Significant difference.\" if p_val < 0.05 else \"Not significant.\")\n",
    "print(\"-\"*60)\n"
   ]
  },
  {
   "cell_type": "markdown",
   "id": "0e8c5961",
   "metadata": {},
   "source": [
    "# =========================================================\n",
    "# 4. Chi-Square Test for Independence\n",
    "# =========================================================\n",
    "\"\"\"\n",
    "👉 Use when testing association between two categorical variables.\n",
    "   Example: Did CTR (click-through rate) differ between Control vs Test group?\n",
    "   Null Hypothesis (H0): CTR is the same across groups.\n",
    "   Alternative Hypothesis (H1): CTR is different.\n",
    "\"\"\""
   ]
  },
  {
   "cell_type": "code",
   "execution_count": 5,
   "id": "85fe3127",
   "metadata": {},
   "outputs": [
    {
     "name": "stdout",
     "output_type": "stream",
     "text": [
      "4) Chi-Square Test\n",
      "   Chi2: 38.279, p-value: 0.000000, df=1\n",
      "   Verdict: Significant association.\n",
      "------------------------------------------------------------\n"
     ]
    }
   ],
   "source": [
    "clicks_A, impressions_A = 1200, 10000\n",
    "clicks_B, impressions_B = 1500, 10000\n",
    "\n",
    "obs = np.array([\n",
    "    [clicks_A, impressions_A - clicks_A],\n",
    "    [clicks_B, impressions_B - clicks_B]\n",
    "])\n",
    "\n",
    "chi2, p, dof, exp = st.chi2_contingency(obs)\n",
    "print(\"4) Chi-Square Test\")\n",
    "print(f\"   Chi2: {chi2:.3f}, p-value: {p:.6f}, df={dof}\")\n",
    "print(\"   Verdict:\", \"Significant association.\" if p < 0.05 else \"No association detected.\")\n",
    "print(\"-\"*60)"
   ]
  },
  {
   "cell_type": "markdown",
   "id": "20cf0a81",
   "metadata": {},
   "source": [
    "# =========================================================\n",
    "# 5. Confidence Interval using T-distribution\n",
    "# =========================================================\n",
    "\"\"\"\n",
    "👉 Use when population variance is UNKNOWN and sample size is SMALL (n < 30).\n",
    "   Formula: CI = x̄ ± t * (s / √n)\n",
    "\"\"\""
   ]
  },
  {
   "cell_type": "code",
   "execution_count": 6,
   "id": "1139d7b9",
   "metadata": {},
   "outputs": [
    {
     "name": "stdout",
     "output_type": "stream",
     "text": [
      "5) Confidence Interval (t-dist)\n",
      "   Mean = 240, 95% CI: (224.12, 255.88)\n",
      "------------------------------------------------------------\n"
     ]
    }
   ],
   "source": [
    "x_bar, s, n = 240, 25, 12\n",
    "alpha = 0.05\n",
    "t_critical = st.t.ppf(1 - alpha/2, df=n-1)\n",
    "margin_err = t_critical * (s/np.sqrt(n))\n",
    "\n",
    "print(\"5) Confidence Interval (t-dist)\")\n",
    "print(f\"   Mean = {x_bar}, 95% CI: ({x_bar - margin_err:.2f}, {x_bar + margin_err:.2f})\")\n",
    "print(\"-\"*60)"
   ]
  },
  {
   "cell_type": "markdown",
   "id": "875be33f",
   "metadata": {},
   "source": [
    "# =========================================================\n",
    "# 6. Confidence Interval using Z-distribution\n",
    "# =========================================================\n",
    "\"\"\"\n",
    "👉 Use when population variance is KNOWN or sample size is LARGE (n ≥ 30).\n",
    "   Formula: CI = x̄ ± z * (σ / √n)\n",
    "\"\"\""
   ]
  },
  {
   "cell_type": "code",
   "execution_count": 7,
   "id": "4302d123",
   "metadata": {},
   "outputs": [
    {
     "name": "stdout",
     "output_type": "stream",
     "text": [
      "6) Confidence Interval (z-dist)\n",
      "   Mean = 4.63, 95% CI: (4.493, 4.767)\n",
      "------------------------------------------------------------\n"
     ]
    }
   ],
   "source": [
    "sample_mean, sigma, N = 4.63, 0.54, 60\n",
    "z_critical = st.norm.ppf(0.975)  # 95% confidence\n",
    "err = z_critical * (sigma / np.sqrt(N))\n",
    "\n",
    "print(\"6) Confidence Interval (z-dist)\")\n",
    "print(f\"   Mean = {sample_mean}, 95% CI: ({sample_mean - err:.3f}, {sample_mean + err:.3f})\")\n",
    "print(\"-\"*60)\n"
   ]
  },
  {
   "cell_type": "markdown",
   "id": "f888178d",
   "metadata": {},
   "source": [
    "# =========================================================\n",
    "# 7. Chi-Square Distribution Visualization\n",
    "# =========================================================\n",
    "\"\"\"\n",
    "👉 Visualizing critical region helps understand the rejection area.\n",
    "   Example: For df=2 and α=0.05, critical chi2 ≈ 5.99.\n",
    "   Any test statistic > 5.99 → Reject H0\n",
    "\"\"\""
   ]
  },
  {
   "cell_type": "code",
   "execution_count": 8,
   "id": "861c7b01",
   "metadata": {},
   "outputs": [
    {
     "data": {
      "image/png": "[encoded data removed]",
      "text/plain": [
       "<Figure size 800x500 with 1 Axes>"
      ]
     },
     "metadata": {},
     "output_type": "display_data"
    }
   ],
   "source": [
    "df = 2\n",
    "critical_val = st.chi2.ppf(0.95, df)  # critical cutoff\n",
    "calc_chi = 3.8  # pretend test statistic\n",
    "\n",
    "x = np.linspace(0, 10, 500)\n",
    "y = st.chi2.pdf(x, df)\n",
    "\n",
    "plt.figure(figsize=(8,5))\n",
    "plt.plot(x, y, 'b-', lw=2, label=f\"Chi2 PDF (df={df})\")\n",
    "plt.axvline(calc_chi, color='orange', linestyle='--', label=f\"Calc Chi2={calc_chi}\")\n",
    "plt.axvline(critical_val, color='red', linestyle='--', label=f\"Critical={critical_val:.2f}\")\n",
    "plt.fill_between(x, y, where=(x > critical_val), color='red', alpha=0.3, label=\"Rejection Region\")\n",
    "plt.title(\"Chi-Square Distribution (df=2)\")\n",
    "plt.xlabel(\"Chi-Square Value\")\n",
    "plt.ylabel(\"Density\")\n",
    "plt.legend()\n",
    "plt.show()"
   ]
  }
 ],
 "metadata": {
  "kernelspec": {
   "display_name": "Python 3",
   "language": "python",
   "name": "python3"
  },
  "language_info": {
   "codemirror_mode": {
    "name": "ipython",
    "version": 3
   },
   "file_extension": ".py",
   "mimetype": "text/x-python",
   "name": "python",
   "nbconvert_exporter": "python",
   "pygments_lexer": "ipython3",
   "version": "3.13.7"
  }
 },
 "nbformat": 4,
 "nbformat_minor": 5
}
