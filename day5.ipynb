{
 "cells": [
  {
   "cell_type": "markdown",
   "id": "16d2c89e",
   "metadata": {},
   "source": [
    "Unsupervised Learning and Recommendation Systems"
   ]
  },
  {
   "cell_type": "code",
   "execution_count": 1,
   "id": "1ab9828f",
   "metadata": {},
   "outputs": [
    {
     "name": "stderr",
     "output_type": "stream",
     "text": [
      "C:\\Users\\srinivas.m\\AppData\\Roaming\\Python\\Python313\\site-packages\\tqdm\\auto.py:21: TqdmWarning: IProgress not found. Please update jupyter and ipywidgets. See https://ipywidgets.readthedocs.io/en/stable/user_install.html\n",
      "  from .autonotebook import tqdm as notebook_tqdm\n"
     ]
    }
   ],
   "source": [
    "# Unsupervised Learning and Recommendation Systems\n",
    "\n",
    "# Install required packages (uncomment if needed)\n",
    "# !pip install pandas numpy scikit-learn matplotlib seaborn umap-learn\n",
    "\n",
    "import pandas as pd\n",
    "import numpy as np\n",
    "from sklearn.cluster import KMeans, DBSCAN, AgglomerativeClustering\n",
    "from sklearn.decomposition import PCA\n",
    "from sklearn.manifold import TSNE\n",
    "from sklearn.preprocessing import StandardScaler\n",
    "from sklearn.metrics.pairwise import cosine_similarity\n",
    "from sklearn.feature_extraction.text import TfidfVectorizer\n",
    "import matplotlib.pyplot as plt\n",
    "import seaborn as sns\n",
    "import umap\n",
    "import zipfile, requests, io\n"
   ]
  },
  {
   "cell_type": "markdown",
   "id": "265af25e",
   "metadata": {},
   "source": [
    " Mall Customer Segmentation Dataset"
   ]
  },
  {
   "cell_type": "code",
   "execution_count": 2,
   "id": "73bf9c6d",
   "metadata": {},
   "outputs": [],
   "source": [
    "# Load and preprocess dataset\n",
    "mall_url = \"https://raw.githubusercontent.com/tanishq21/Mall-Customers/main/Mall_Customers.csv\"\n",
    "mall_df = pd.read_csv(mall_url)\n",
    "\n",
    "\n",
    "mall_features = mall_df[['Age', 'Annual Income (k$)', 'Spending Score (1-100)']]\n",
    "scaler = StandardScaler()\n",
    "mall_scaled = scaler.fit_transform(mall_features)\n"
   ]
  },
  {
   "cell_type": "markdown",
   "id": "2e85e6ab",
   "metadata": {},
   "source": [
    " Dimensionality Reduction\n"
   ]
  },
  {
   "cell_type": "code",
   "execution_count": 3,
   "id": "ef38c7a9",
   "metadata": {},
   "outputs": [
    {
     "name": "stderr",
     "output_type": "stream",
     "text": [
      "C:\\Users\\srinivas.m\\AppData\\Roaming\\Python\\Python313\\site-packages\\umap\\umap_.py:1952: UserWarning: n_jobs value 1 overridden to 1 by setting random_state. Use no seed for parallelism.\n",
      "  warn(\n"
     ]
    }
   ],
   "source": [
    "# PCA\n",
    "pca = PCA(n_components=2)\n",
    "mall_pca = pca.fit_transform(mall_scaled)\n",
    "\n",
    "# t-SNE\n",
    "tsne = TSNE(n_components=2, random_state=42)\n",
    "mall_tsne = tsne.fit_transform(mall_scaled)\n",
    "\n",
    "# UMAP\n",
    "umap_model = umap.UMAP(n_components=2, random_state=42)\n",
    "mall_umap = umap_model.fit_transform(mall_scaled)\n"
   ]
  },
  {
   "cell_type": "markdown",
   "id": "6c1912c2",
   "metadata": {},
   "source": [
    " Clustering"
   ]
  },
  {
   "cell_type": "code",
   "execution_count": 4,
   "id": "b7082158",
   "metadata": {},
   "outputs": [],
   "source": [
    "# K-Means\n",
    "mall_df['KMeans'] = KMeans(n_clusters=5, random_state=42).fit_predict(mall_scaled)\n",
    "\n",
    "# Hierarchical\n",
    "mall_df['Hierarchical'] = AgglomerativeClustering(n_clusters=5).fit_predict(mall_scaled)\n",
    "\n",
    "# DBSCAN\n",
    "mall_df['DBSCAN'] = DBSCAN(eps=0.5, min_samples=5).fit_predict(mall_scaled)\n"
   ]
  },
  {
   "cell_type": "markdown",
   "id": "6c79bf06",
   "metadata": {},
   "source": [
    "MovieLens Dataset"
   ]
  },
  {
   "cell_type": "code",
   "execution_count": 5,
   "id": "d8da708b",
   "metadata": {},
   "outputs": [
    {
     "name": "stdout",
     "output_type": "stream",
     "text": [
      "Ratings sample:\n",
      "   userId  movieId  rating            timestamp\n",
      "0       1        2     3.5  2005-04-02 23:53:47\n",
      "1       1       29     3.5  2005-04-02 23:31:16\n",
      "2       1       32     3.5  2005-04-02 23:33:39\n",
      "3       1       47     3.5  2005-04-02 23:32:07\n",
      "4       1       50     3.5  2005-04-02 23:29:40\n",
      "\n",
      "Movies sample:\n",
      "   movieId                               title  \\\n",
      "0        1                    Toy Story (1995)   \n",
      "1        2                      Jumanji (1995)   \n",
      "2        3             Grumpier Old Men (1995)   \n",
      "3        4            Waiting to Exhale (1995)   \n",
      "4        5  Father of the Bride Part II (1995)   \n",
      "\n",
      "                                        genres  \n",
      "0  Adventure|Animation|Children|Comedy|Fantasy  \n",
      "1                   Adventure|Children|Fantasy  \n",
      "2                               Comedy|Romance  \n",
      "3                         Comedy|Drama|Romance  \n",
      "4                                       Comedy  \n"
     ]
    }
   ],
   "source": [
    "import pandas as pd\n",
    "\n",
    "# Load the CSV files directly from current working directory\n",
    "ratings = pd.read_csv(\"rating.csv\")\n",
    "movies = pd.read_csv(\"movie.csv\")\n",
    "\n",
    "# Preview the data\n",
    "print(\"Ratings sample:\")\n",
    "print(ratings.head())\n",
    "\n",
    "print(\"\\nMovies sample:\")\n",
    "print(movies.head())\n"
   ]
  },
  {
   "cell_type": "markdown",
   "id": "0fb9036c",
   "metadata": {},
   "source": [
    "Collaborative Filtering"
   ]
  },
  {
   "cell_type": "code",
   "execution_count": 8,
   "id": "39ab9658",
   "metadata": {},
   "outputs": [
    {
     "name": "stdout",
     "output_type": "stream",
     "text": [
      "User-Item Matrix shape: (1000, 1000)\n",
      "User Similarity Matrix shape: (1000, 1000)\n"
     ]
    }
   ],
   "source": [
    "import pandas as pd\n",
    "from sklearn.metrics.pairwise import cosine_similarity\n",
    "from scipy.sparse import csr_matrix\n",
    "\n",
    "# Load ratings\n",
    "ratings = pd.read_csv(\"rating.csv\")\n",
    "\n",
    "# Filter top 1000 users and top 1000 movies by activity\n",
    "top_users = ratings['userId'].value_counts().head(1000).index\n",
    "top_movies = ratings['movieId'].value_counts().head(1000).index\n",
    "\n",
    "filtered_ratings = ratings[ratings['userId'].isin(top_users) & ratings['movieId'].isin(top_movies)]\n",
    "\n",
    "# Create user-item matrix\n",
    "user_item_matrix = filtered_ratings.pivot_table(index='userId', columns='movieId', values='rating', fill_value=0)\n",
    "\n",
    "# Convert to sparse matrix\n",
    "user_item_sparse = csr_matrix(user_item_matrix.values)\n",
    "\n",
    "# Compute cosine similarity\n",
    "user_similarity = cosine_similarity(user_item_sparse)\n",
    "\n",
    "print(\"User-Item Matrix shape:\", user_item_matrix.shape)\n",
    "print(\"User Similarity Matrix shape:\", user_similarity.shape)\n"
   ]
  },
  {
   "cell_type": "markdown",
   "id": "d5a11038",
   "metadata": {},
   "source": [
    "Content-Based Filtering"
   ]
  },
  {
   "cell_type": "code",
   "execution_count": 9,
   "id": "2311acb8",
   "metadata": {},
   "outputs": [],
   "source": [
    "tfidf = TfidfVectorizer(stop_words='english')\n",
    "movie_features = tfidf.fit_transform(movies['title'])\n",
    "movie_similarity = cosine_similarity(movie_features)\n"
   ]
  },
  {
   "cell_type": "markdown",
   "id": "a2b7856c",
   "metadata": {},
   "source": [
    "Hybrid Recommendation System\n"
   ]
  },
  {
   "cell_type": "code",
   "execution_count": 10,
   "id": "6ca6f261",
   "metadata": {},
   "outputs": [],
   "source": [
    "# Simple hybrid: average of user and item similarities (for demo)\n",
    "hybrid_similarity = (user_similarity[:10, :10] + movie_similarity[:10, :10]) / 2\n"
   ]
  }
 ],
 "metadata": {
  "kernelspec": {
   "display_name": "Python 3",
   "language": "python",
   "name": "python3"
  },
  "language_info": {
   "codemirror_mode": {
    "name": "ipython",
    "version": 3
   },
   "file_extension": ".py",
   "mimetype": "text/x-python",
   "name": "python",
   "nbconvert_exporter": "python",
   "pygments_lexer": "ipython3",
   "version": "3.13.7"
  }
 },
 "nbformat": 4,
 "nbformat_minor": 5
}
